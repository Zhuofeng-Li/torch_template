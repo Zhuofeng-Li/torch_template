{
 "cells": [
  {
   "attachments": {},
   "cell_type": "markdown",
   "metadata": {
    "collapsed": false
   },
   "source": [
    "# install and import necessary dependencies"
   ]
  },
  {
   "cell_type": "code",
   "execution_count": 15,
   "metadata": {
    "ExecuteTime": {
     "end_time": "2023-06-29T01:14:54.580667700Z",
     "start_time": "2023-06-29T01:14:51.840601300Z"
    },
    "collapsed": false
   },
   "outputs": [
    {
     "name": "stdout",
     "output_type": "stream",
     "text": [
      "Requirement already satisfied: numpy in d:\\conda\\envs\\kaggle\\lib\\site-packages (1.24.4)\n",
      "Requirement already satisfied: pandas in d:\\conda\\envs\\kaggle\\lib\\site-packages (2.0.3)\n",
      "Requirement already satisfied: matplotlib in d:\\conda\\envs\\kaggle\\lib\\site-packages (3.7.1)\n",
      "Requirement already satisfied: seaborn in d:\\conda\\envs\\kaggle\\lib\\site-packages (0.12.2)\n",
      "Requirement already satisfied: torch in d:\\conda\\envs\\kaggle\\lib\\site-packages (2.0.1)\n",
      "Requirement already satisfied: torch_geometric in d:\\conda\\envs\\kaggle\\lib\\site-packages (2.3.1)\n",
      "Requirement already satisfied: networkx in d:\\conda\\envs\\kaggle\\lib\\site-packages (3.1)\n",
      "Requirement already satisfied: python-dateutil>=2.8.2 in d:\\conda\\envs\\kaggle\\lib\\site-packages (from pandas) (2.8.2)\n",
      "Requirement already satisfied: pytz>=2020.1 in d:\\conda\\envs\\kaggle\\lib\\site-packages (from pandas) (2022.7)\n",
      "Requirement already satisfied: tzdata>=2022.1 in d:\\conda\\envs\\kaggle\\lib\\site-packages (from pandas) (2023.3)\n",
      "Requirement already satisfied: contourpy>=1.0.1 in d:\\conda\\envs\\kaggle\\lib\\site-packages (from matplotlib) (1.1.0)\n",
      "Requirement already satisfied: cycler>=0.10 in d:\\conda\\envs\\kaggle\\lib\\site-packages (from matplotlib) (0.11.0)\n",
      "Requirement already satisfied: fonttools>=4.22.0 in d:\\conda\\envs\\kaggle\\lib\\site-packages (from matplotlib) (4.40.0)\n",
      "Requirement already satisfied: kiwisolver>=1.0.1 in d:\\conda\\envs\\kaggle\\lib\\site-packages (from matplotlib) (1.4.4)\n",
      "Requirement already satisfied: packaging>=20.0 in d:\\conda\\envs\\kaggle\\lib\\site-packages (from matplotlib) (23.0)\n",
      "Requirement already satisfied: pillow>=6.2.0 in d:\\conda\\envs\\kaggle\\lib\\site-packages (from matplotlib) (9.5.0)\n",
      "Requirement already satisfied: pyparsing>=2.3.1 in d:\\conda\\envs\\kaggle\\lib\\site-packages (from matplotlib) (3.1.0)\n",
      "Requirement already satisfied: importlib-resources>=3.2.0 in d:\\conda\\envs\\kaggle\\lib\\site-packages (from matplotlib) (5.2.0)\n",
      "Requirement already satisfied: filelock in d:\\conda\\envs\\kaggle\\lib\\site-packages (from torch) (3.12.2)\n",
      "Requirement already satisfied: typing-extensions in d:\\conda\\envs\\kaggle\\lib\\site-packages (from torch) (4.6.3)\n",
      "Requirement already satisfied: sympy in d:\\conda\\envs\\kaggle\\lib\\site-packages (from torch) (1.12)\n",
      "Requirement already satisfied: jinja2 in d:\\conda\\envs\\kaggle\\lib\\site-packages (from torch) (3.1.2)\n",
      "Requirement already satisfied: tqdm in d:\\conda\\envs\\kaggle\\lib\\site-packages (from torch_geometric) (4.65.0)\n",
      "Requirement already satisfied: scipy in d:\\conda\\envs\\kaggle\\lib\\site-packages (from torch_geometric) (1.10.1)\n",
      "Requirement already satisfied: requests in d:\\conda\\envs\\kaggle\\lib\\site-packages (from torch_geometric) (2.29.0)\n",
      "Requirement already satisfied: scikit-learn in d:\\conda\\envs\\kaggle\\lib\\site-packages (from torch_geometric) (1.2.2)\n",
      "Requirement already satisfied: psutil>=5.8.0 in d:\\conda\\envs\\kaggle\\lib\\site-packages (from torch_geometric) (5.9.0)\n",
      "Requirement already satisfied: zipp>=3.1.0 in d:\\conda\\envs\\kaggle\\lib\\site-packages (from importlib-resources>=3.2.0->matplotlib) (3.11.0)\n",
      "Requirement already satisfied: six>=1.5 in d:\\conda\\envs\\kaggle\\lib\\site-packages (from python-dateutil>=2.8.2->pandas) (1.16.0)\n",
      "Requirement already satisfied: MarkupSafe>=2.0 in d:\\conda\\envs\\kaggle\\lib\\site-packages (from jinja2->torch) (2.1.1)\n",
      "Requirement already satisfied: charset-normalizer<4,>=2 in d:\\conda\\envs\\kaggle\\lib\\site-packages (from requests->torch_geometric) (2.0.4)\n",
      "Requirement already satisfied: idna<4,>=2.5 in d:\\conda\\envs\\kaggle\\lib\\site-packages (from requests->torch_geometric) (3.4)\n",
      "Requirement already satisfied: urllib3<1.27,>=1.21.1 in d:\\conda\\envs\\kaggle\\lib\\site-packages (from requests->torch_geometric) (1.26.16)\n",
      "Requirement already satisfied: certifi>=2017.4.17 in d:\\conda\\envs\\kaggle\\lib\\site-packages (from requests->torch_geometric) (2023.5.7)\n",
      "Requirement already satisfied: joblib>=1.1.1 in d:\\conda\\envs\\kaggle\\lib\\site-packages (from scikit-learn->torch_geometric) (1.3.0)\n",
      "Requirement already satisfied: threadpoolctl>=2.0.0 in d:\\conda\\envs\\kaggle\\lib\\site-packages (from scikit-learn->torch_geometric) (3.1.0)\n",
      "Requirement already satisfied: mpmath>=0.19 in d:\\conda\\envs\\kaggle\\lib\\site-packages (from sympy->torch) (1.3.0)\n",
      "Requirement already satisfied: colorama in d:\\conda\\envs\\kaggle\\lib\\site-packages (from tqdm->torch_geometric) (0.4.6)\n"
     ]
    }
   ],
   "source": [
    "!pip install numpy pandas matplotlib seaborn torch torch_geometric networkx kaggle tensorboard"
   ]
  },
  {
   "cell_type": "code",
   "execution_count": 1,
   "metadata": {
    "ExecuteTime": {
     "end_time": "2023-07-06T00:46:58.557881Z",
     "start_time": "2023-07-06T00:46:50.891429100Z"
    },
    "collapsed": false
   },
   "outputs": [],
   "source": [
    "# python\n",
    "import os\n",
    "import math\n",
    "import csv\n",
    "\n",
    "# random\n",
    "import random\n",
    "#data analysis libraries\n",
    "import numpy as np\n",
    "import pandas as pd\n",
    "\n",
    "# machine learning\n",
    "import sklearn\n",
    "\n",
    "# deep learning\n",
    "import torch\n",
    "import torch.nn as nn\n",
    "from torch.utils.data import Dataset, DataLoader, random_split\n",
    "import torch.nn.functional as F\n",
    "import pytorch_lightning as pl\n",
    "\n",
    "#d2l\n",
    "import d2l.torch as d2l\n",
    "\n",
    "# For plotting learning curve\n",
    "from torch.utils.tensorboard import SummaryWriter\n",
    "\n",
    "\n",
    "#visualization libraries\n",
    "import matplotlib.pyplot as plt\n",
    "import seaborn as sns\n",
    "%matplotlib inline\n",
    "\n",
    "# For Progress Bar\n",
    "from tqdm import tqdm\n",
    "\n",
    "#ignore warnings\n",
    "import warnings\n",
    "\n",
    "warnings.filterwarnings('ignore')\n",
    "\n",
    "# auto load change\n",
    "%load_ext autoreload\n",
    "%autoreload 2"
   ]
  }
 ],
 "metadata": {
  "kernelspec": {
   "display_name": "Python 3",
   "language": "python",
   "name": "python3"
  },
  "language_info": {
   "codemirror_mode": {
    "name": "ipython",
    "version": 2
   },
   "file_extension": ".py",
   "mimetype": "text/x-python",
   "name": "python",
   "nbconvert_exporter": "python",
   "pygments_lexer": "ipython2",
   "version": "2.7.6"
  }
 },
 "nbformat": 4,
 "nbformat_minor": 0
}
